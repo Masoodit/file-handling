{
 "cells": [
  {
   "cell_type": "markdown",
   "id": "17c1a2b4-c19f-4ed2-a7db-def7a18f524a",
   "metadata": {},
   "source": [
    "# 1. Write a code to read the contents of a file in Python.       "
   ]
  },
  {
   "cell_type": "code",
   "execution_count": 5,
   "id": "afce0624-5ade-4aea-a288-c354fa2cbeb7",
   "metadata": {},
   "outputs": [
    {
     "name": "stdout",
     "output_type": "stream",
     "text": [
      "This is the content that will be written to the file.\n"
     ]
    }
   ],
   "source": [
    "# Open the file in read mode\n",
    "with open('output_file.txt', 'r') as file:\n",
    "    # Read the contents of the file\n",
    "    file_contents = file.read()\n",
    "\n",
    "# Print the contents of the file\n",
    "print(file_contents)"
   ]
  },
  {
   "cell_type": "markdown",
   "id": "d0d64d2b-dc9c-4832-ab14-287ec92e4164",
   "metadata": {},
   "source": [
    "# 2. Write a code to write to a file in Python."
   ]
  },
  {
   "cell_type": "code",
   "execution_count": 4,
   "id": "0435dde0-3bf0-4b6a-9092-ebafd9213095",
   "metadata": {},
   "outputs": [
    {
     "name": "stdout",
     "output_type": "stream",
     "text": [
      "Content successfully written to 'output_file.txt'\n"
     ]
    }
   ],
   "source": [
    "file_path = 'output_file.txt'  # Replace with your desired file path\n",
    "content_to_write = 'This is the content that will be written to the file.'\n",
    "\n",
    "try:\n",
    "    # Open the file in write mode\n",
    "    with open(file_path, 'w') as file:\n",
    "        # Write the content to the file\n",
    "        file.write(content_to_write)\n",
    "    print(f\"Content successfully written to '{file_path}'\")\n",
    "except Exception as e:\n",
    "    print(f\"An error occurred: {e}\")\n"
   ]
  },
  {
   "cell_type": "markdown",
   "id": "36afd397-5b30-46d0-b1d5-fc905ab628ef",
   "metadata": {},
   "source": [
    "# 3. Write a code to append to a file in Python."
   ]
  },
  {
   "cell_type": "code",
   "execution_count": 6,
   "id": "20603776-5b59-4194-b278-794eca74ac72",
   "metadata": {},
   "outputs": [
    {
     "name": "stdout",
     "output_type": "stream",
     "text": [
      "Content successfully appended to 'output_file.txt'\n"
     ]
    }
   ],
   "source": [
    "file_path = 'output_file.txt'  # Replace with your desired file path\n",
    "content_to_append = 'This is the content that will be appended to the file.\\n'\n",
    "\n",
    "try:\n",
    "    # Open the file in append mode\n",
    "    with open(file_path, 'a') as file:\n",
    "        # Append the content to the file\n",
    "        file.write(content_to_append)\n",
    "    print(f\"Content successfully appended to '{file_path}'\")\n",
    "except Exception as e:\n",
    "    print(f\"An error occurred: {e}\")\n"
   ]
  },
  {
   "cell_type": "markdown",
   "id": "b091fdb5-ebee-4cab-8913-e92cccf65f42",
   "metadata": {},
   "source": [
    "# 4. Write a code to read a binary file in Python."
   ]
  },
  {
   "cell_type": "code",
   "execution_count": 7,
   "id": "427b2ad2-481e-4762-b097-7c827586ac33",
   "metadata": {},
   "outputs": [
    {
     "name": "stdout",
     "output_type": "stream",
     "text": [
      "Binary content successfully written to 'binary_file.bin'\n",
      "Binary content read from file:\n",
      "b'This is some binary content.\\n'\n"
     ]
    }
   ],
   "source": [
    "# Step 1: Create a binary file and write content to it\n",
    "file_path = 'binary_file.bin'\n",
    "content_to_write = b'This is some binary content.\\n'\n",
    "\n",
    "try:\n",
    "    # Open the file in binary write mode\n",
    "    with open(file_path, 'wb') as file:\n",
    "        # Write the binary content to the file\n",
    "        file.write(content_to_write)\n",
    "    print(f\"Binary content successfully written to '{file_path}'\")\n",
    "except Exception as e:\n",
    "    print(f\"An error occurred while writing to the file: {e}\")\n",
    "\n",
    "# Step 2: Read the content from the binary file\n",
    "try:\n",
    "    # Open the file in binary read mode\n",
    "    with open(file_path, 'rb') as file:\n",
    "        # Read the contents of the file\n",
    "        binary_contents = file.read()\n",
    "    \n",
    "    # Print the contents of the binary file as bytes\n",
    "    print(\"Binary content read from file:\")\n",
    "    print(binary_contents)\n",
    "except FileNotFoundError:\n",
    "    print(f\"Error: The file '{file_path}' was not found.\")\n",
    "except Exception as e:\n",
    "    print(f\"An error occurred while reading the file: {e}\")\n"
   ]
  },
  {
   "cell_type": "markdown",
   "id": "598b2a56-588f-46ed-a68e-213618908da5",
   "metadata": {},
   "source": [
    "# 5. What happens if we don't use with keyword with open in python?"
   ]
  },
  {
   "cell_type": "markdown",
   "id": "0a5e6651-3b1f-4466-9e49-b08bd300e610",
   "metadata": {},
   "source": [
    "If you don't use the with keyword when opening a file in Python, you need to manually ensure that the file is properly closed after performing file operations. Failing to close the file can lead to resource leaks and potentially leave the file in an inconsistent state. Here’s an example that demonstrates opening and closing a file without using with:\n",
    "\n",
    "Example Without with"
   ]
  },
  {
   "cell_type": "code",
   "execution_count": 8,
   "id": "8c23f553-7fec-437f-bab2-a808c5bccc45",
   "metadata": {},
   "outputs": [],
   "source": [
    "file_path = 'output_file.txt'\n",
    "\n",
    "# Open the file\n",
    "file = open(file_path, 'w')\n",
    "try:\n",
    "    # Write content to the file\n",
    "    file.write('This is an example without using with.\\n')\n",
    "finally:\n",
    "    # Make sure to close the file\n",
    "    file.close()\n"
   ]
  },
  {
   "cell_type": "markdown",
   "id": "c1390046-5b14-49df-8ccf-e82fcb4b59ce",
   "metadata": {},
   "source": [
    "# 6. Explain the concept of buffering in file handling and how it helps in improving read and write operations."
   ]
  },
  {
   "cell_type": "markdown",
   "id": "cbfc2050-3fc3-4a21-8217-8cc37ca862fa",
   "metadata": {},
   "source": [
    "What is Buffering?\n",
    "\n",
    "Buffering stores data in memory temporarily while reading from or writing to a file to improve performance.\n",
    "Types of Buffering\n",
    "\n",
    "    Full Buffering: Writes data in large chunks.\n",
    "    Line Buffering: Writes data line by line.\n",
    "    No Buffering: Writes data immediately.\n",
    "\n",
    "Benefits\n",
    "\n",
    "    Faster Operations: Reduces the number of read/write operations.\n",
    "    Less Disk Wear: Fewer writes prolong storage life.\n",
    "    Efficient CPU Use: CPU can do other tasks while data is buffered.\n",
    "    \n",
    "Example below"
   ]
  },
  {
   "cell_type": "code",
   "execution_count": 11,
   "id": "b2a2bd1c-2f94-4ff3-8b0b-b53559abe7cc",
   "metadata": {},
   "outputs": [],
   "source": [
    "# Line buffering\n",
    "with open('example.txt', 'w', buffering=1) as file:\n",
    "    file.write('Line buffering.\\n')\n",
    "\n",
    "# Full buffering with buffer size of 4096 bytes\n",
    "with open('example.txt', 'w', buffering=4096) as file:\n",
    "    file.write('Full buffering.\\n')\n"
   ]
  },
  {
   "cell_type": "markdown",
   "id": "d3eee9ec-7825-4425-b3d8-54d6ecf782b6",
   "metadata": {},
   "source": [
    "# 7. Describe the steps involved in implementing buffered file handling in a programming language of your choice."
   ]
  },
  {
   "cell_type": "markdown",
   "id": "0f868256-f265-408d-8919-5a9252c62bc6",
   "metadata": {},
   "source": [
    "Implementing buffered file handling involves several key steps, which generally include opening the file with the desired buffering mode, performing the read or write operations, and properly closing the file. Below are the steps to implement buffered file handling in Python, which is a widely-used language for file operations.\n",
    "\n",
    "\n",
    "Steps to Implement Buffered File Handling in Python\n",
    "\n",
    "Open the File:\n",
    "\n",
    "Use the open function to open the file.\n",
    "Specify the mode ('r' for reading, 'w' for writing, etc.) and the buffering parameter.\n",
    "\n",
    "Perform File Operations:\n",
    "\n",
    "Use file methods like read, write, etc., to perform the desired operations on the file.\n",
    "\n",
    "Close the File:\n",
    "\n",
    "Ensure that the file is properly closed after the operations to free up system resources. This can be done automatically using a with statement."
   ]
  },
  {
   "cell_type": "markdown",
   "id": "5b48004c-e235-4e25-aea1-c510677b36ef",
   "metadata": {},
   "source": [
    "# 8. Write a Python function to read a text file using buffered reading and return its contents."
   ]
  },
  {
   "cell_type": "code",
   "execution_count": 1,
   "id": "b6354734-5969-49e1-8005-f76d400c275d",
   "metadata": {},
   "outputs": [
    {
     "name": "stdout",
     "output_type": "stream",
     "text": [
      "Full buffering.\n",
      "\n"
     ]
    }
   ],
   "source": [
    "def read_file_with_buffer(file_path, buffer_size=4096):\n",
    "    \"\"\"\n",
    "    Reads a text file using buffered reading and returns its contents.\n",
    "\n",
    "    :param file_path: Path to the text file\n",
    "    :param buffer_size: Size of the buffer (default is 4096 bytes)\n",
    "    :return: Contents of the file as a string\n",
    "    \"\"\"\n",
    "    contents = []\n",
    "\n",
    "    try:\n",
    "        # Open the file in read mode with specified buffer size\n",
    "        with open(file_path, 'r', buffering=buffer_size) as file:\n",
    "            # Read the file in chunks of buffer_size\n",
    "            while True:\n",
    "                chunk = file.read(buffer_size)\n",
    "                if not chunk:\n",
    "                    break\n",
    "                contents.append(chunk)\n",
    "    except FileNotFoundError:\n",
    "        print(f\"Error: The file '{file_path}' was not found.\")\n",
    "        return None\n",
    "    except Exception as e:\n",
    "        print(f\"An error occurred: {e}\")\n",
    "        return None\n",
    "\n",
    "    # Join all chunks and return the complete content\n",
    "    return ''.join(contents)\n",
    "\n",
    "# Example usage\n",
    "file_path = 'example.txt'\n",
    "file_contents = read_file_with_buffer(file_path)\n",
    "if file_contents is not None:\n",
    "    print(file_contents)\n"
   ]
  },
  {
   "cell_type": "markdown",
   "id": "29f54c2d-bc0e-42d9-b02a-a38fc165843f",
   "metadata": {},
   "source": [
    "# 9. What are the advantages of using buffered reading over direct file reading in Python?"
   ]
  },
  {
   "cell_type": "markdown",
   "id": "878ce9bf-f60b-44ee-91b5-9d7d71928b81",
   "metadata": {},
   "source": [
    "Advantages of Buffered Reading Over Direct File Reading\n",
    "\n",
    "Improved Performance:\n",
    "\n",
    "Fewer I/O Operations: Reads larger chunks of data at once, reducing the overhead.\n",
    "Efficient Resource Use: Uses CPU and memory more efficiently.\n",
    "Reduced Disk Wear:\n",
    "\n",
    "Less Frequent Access: Fewer read/write operations extend the lifespan of storage devices.\n",
    "Smoother Program Execution:\n",
    "\n",
    "Minimized Latency: Reduces delays caused by repeated I/O operations.\n",
    "Better Responsiveness: Handles large files more smoothly.\n",
    "Optimized Memory Usage:\n",
    "\n",
    "Controlled Buffer Size: Allows you to set an optimal buffer size for your needs.\n",
    "Simplified Code:\n",
    "\n",
    "Easier Maintenance: Handles large files more effectively, making code easier to read and maintain."
   ]
  },
  {
   "cell_type": "markdown",
   "id": "ab8941ce-5663-492a-9828-e2896495cd2e",
   "metadata": {},
   "source": [
    "# 10. Write a Python code snippet to append content to a file using buffered writing"
   ]
  },
  {
   "cell_type": "code",
   "execution_count": 3,
   "id": "dfb35722-e9ed-4b9b-87b6-c5327625edab",
   "metadata": {},
   "outputs": [
    {
     "name": "stdout",
     "output_type": "stream",
     "text": [
      "Content successfully appended to 'example.txt'\n"
     ]
    }
   ],
   "source": [
    "def append_to_file_with_buffer(file_path, content_to_append, buffer_size=4096):\n",
    "    \"\"\"\n",
    "    Appends content to a file using buffered writing.\n",
    "\n",
    "    :param file_path: Path to the file\n",
    "    :param content_to_append: Content to append to the file\n",
    "    :param buffer_size: Size of the buffer (default is 4096 bytes)\n",
    "    \"\"\"\n",
    "    try:\n",
    "        # Open the file in append mode with specified buffer size\n",
    "        with open(file_path, 'a', buffering=buffer_size) as file:\n",
    "            # Write the content to the file\n",
    "            file.write(content_to_append)\n",
    "        print(f\"Content successfully appended to '{file_path}'\")\n",
    "    except Exception as e:\n",
    "        print(f\"An error occurred: {e}\")\n",
    "\n",
    "# Example usage\n",
    "file_path = 'example.txt'\n",
    "content_to_append = 'This is the content being appended to the file.\\n'\n",
    "append_to_file_with_buffer(file_path, content_to_append)\n"
   ]
  },
  {
   "cell_type": "markdown",
   "id": "1fc2716e-9bd5-4ca3-bb2e-ce0ecfb77300",
   "metadata": {},
   "source": [
    "# 11. Write a Python function that demonstrates the use of close() method on a file?"
   ]
  },
  {
   "cell_type": "code",
   "execution_count": 4,
   "id": "885c7d2c-b38d-4368-be3b-a28256c79135",
   "metadata": {},
   "outputs": [
    {
     "name": "stdout",
     "output_type": "stream",
     "text": [
      "Content successfully written to 'example.txt'\n",
      "File 'example.txt' has been closed.\n"
     ]
    }
   ],
   "source": [
    "def write_and_close_file(file_path, content_to_write):\n",
    "    \"\"\"\n",
    "    Writes content to a file and demonstrates the use of the close() method.\n",
    "\n",
    "    :param file_path: Path to the file\n",
    "    :param content_to_write: Content to write to the file\n",
    "    \"\"\"\n",
    "    try:\n",
    "        # Open the file in write mode\n",
    "        file = open(file_path, 'w')\n",
    "        # Write the content to the file\n",
    "        file.write(content_to_write)\n",
    "        print(f\"Content successfully written to '{file_path}'\")\n",
    "    except Exception as e:\n",
    "        print(f\"An error occurred: {e}\")\n",
    "    finally:\n",
    "        # Ensure the file is closed\n",
    "        file.close()\n",
    "        print(f\"File '{file_path}' has been closed.\")\n",
    "\n",
    "# Example usage\n",
    "file_path = 'example.txt'\n",
    "content_to_write = 'This demonstrates the use of the close() method.\\n'\n",
    "write_and_close_file(file_path, content_to_write)\n"
   ]
  },
  {
   "cell_type": "markdown",
   "id": "3633b0cc-cb01-45a8-953a-236c3ed581b5",
   "metadata": {},
   "source": [
    "# 12. Create a Python function to showcase the detach() method on a file object."
   ]
  },
  {
   "cell_type": "code",
   "execution_count": 10,
   "id": "8b0537d0-ae3f-4ab5-88d0-fe9df0b210b6",
   "metadata": {},
   "outputs": [
    {
     "name": "stdout",
     "output_type": "stream",
     "text": [
      "Reading content as text:\n",
      "This is a demonstration of the detach() method.\n",
      "Reading content as binary after detach:\n",
      "b'This is a demonstration of the detach() method.'\n"
     ]
    }
   ],
   "source": [
    "def demonstrate_detach(file_path, content_to_write):\n",
    "    \"\"\"\n",
    "    Demonstrates the use of the detach() method on a file object.\n",
    "\n",
    "    :param file_path: Path to the file\n",
    "    :param content_to_write: Content to write to the file\n",
    "    \"\"\"\n",
    "    import io\n",
    "\n",
    "    # Write the content to the file in text mode\n",
    "    with open(file_path, 'w', encoding='utf-8') as file:\n",
    "        file.write(content_to_write)\n",
    "    \n",
    "    # Open the file in binary read mode\n",
    "    with open(file_path, 'rb') as binary_file:\n",
    "        # Wrap the binary file in a TextIOWrapper to allow text I/O\n",
    "        text_wrapper = io.TextIOWrapper(binary_file, encoding='utf-8')\n",
    "\n",
    "        # Read some content as text\n",
    "        print(\"Reading content as text:\")\n",
    "        text_wrapper.seek(0)\n",
    "        print(text_wrapper.read())\n",
    "        \n",
    "        # Detach the underlying binary buffer\n",
    "        binary_buffer = text_wrapper.detach()\n",
    "\n",
    "        # Now use the binary buffer\n",
    "        print(\"Reading content as binary after detach:\")\n",
    "        binary_buffer.seek(0)  # Move to the start of the binary buffer\n",
    "        print(binary_buffer.read())\n",
    "\n",
    "# Example usage\n",
    "file_path = 'example_detach.txt'\n",
    "content_to_write = 'This is a demonstration of the detach() method.'\n",
    "demonstrate_detach(file_path, content_to_write)\n"
   ]
  },
  {
   "cell_type": "markdown",
   "id": "81ca7640-bc9f-4814-bfa7-25a269afc36a",
   "metadata": {},
   "source": [
    "# 13. Write a Python function to demonstrate the use of the seek() method to change the file position."
   ]
  },
  {
   "cell_type": "code",
   "execution_count": 13,
   "id": "f855b6e8-30a2-4b30-81e7-dca9c8e32c09",
   "metadata": {},
   "outputs": [
    {
     "name": "stdout",
     "output_type": "stream",
     "text": [
      "Reading first 10 bytes:\n",
      "b'This is an'\n",
      "\n",
      "After seeking to the beginning:\n",
      "b'This is an'\n",
      "\n",
      "After seeking to the 5th byte:\n",
      "b'is an exam'\n",
      "\n",
      "After seeking 5 bytes back from the current position:\n",
      "b' example t'\n",
      "\n",
      "After seeking to the 10th byte from the end:\n",
      "b' handling.'\n"
     ]
    }
   ],
   "source": [
    "def demonstrate_seek(file_path, content_to_write):\n",
    "    \"\"\"\n",
    "    Demonstrates the use of the seek() method to change the file position.\n",
    "\n",
    "    :param file_path: Path to the file\n",
    "    :param content_to_write: Content to write to the file\n",
    "    \"\"\"\n",
    "    # Write the content to the file in binary mode\n",
    "    with open(file_path, 'wb') as file:\n",
    "        file.write(content_to_write.encode('utf-8'))\n",
    "    \n",
    "    # Read the file and demonstrate seek in binary mode\n",
    "    with open(file_path, 'rb') as file:\n",
    "        # Read the first 10 bytes\n",
    "        print(\"Reading first 10 bytes:\")\n",
    "        print(file.read(10))\n",
    "\n",
    "        # Move the file pointer to the beginning\n",
    "        file.seek(0)\n",
    "        print(\"\\nAfter seeking to the beginning:\")\n",
    "        print(file.read(10))\n",
    "\n",
    "        # Move the file pointer to the 5th byte from the start\n",
    "        file.seek(5)\n",
    "        print(\"\\nAfter seeking to the 5th byte:\")\n",
    "        print(file.read(10))\n",
    "\n",
    "        # Move the file pointer 5 bytes back from the current position\n",
    "        file.seek(-5, 1)\n",
    "        print(\"\\nAfter seeking 5 bytes back from the current position:\")\n",
    "        print(file.read(10))\n",
    "\n",
    "        # Move the file pointer to the 10th byte from the end\n",
    "        file.seek(-10, 2)\n",
    "        print(\"\\nAfter seeking to the 10th byte from the end:\")\n",
    "        print(file.read(10))\n",
    "\n",
    "# Example usage\n",
    "file_path = 'example_seek.txt'\n",
    "content_to_write = 'This is an example to demonstrate the seek method in file handling.'\n",
    "demonstrate_seek(file_path, content_to_write)\n"
   ]
  },
  {
   "cell_type": "markdown",
   "id": "bb90f076-12f2-45f0-84f4-99d0b288cc0d",
   "metadata": {},
   "source": [
    "# 14. Create a Python function to return the file descriptor (integer number) of a file using the fileno() method."
   ]
  },
  {
   "cell_type": "code",
   "execution_count": 15,
   "id": "d653d0da-3b42-4f3a-af2a-9364518fd40d",
   "metadata": {},
   "outputs": [
    {
     "name": "stdout",
     "output_type": "stream",
     "text": [
      "The file descriptor for 'example_file.txt' is: 63\n"
     ]
    }
   ],
   "source": [
    "def get_file_descriptor(file_path):\n",
    "    \"\"\"\n",
    "    Opens a file and returns its file descriptor.\n",
    "\n",
    "    :param file_path: Path to the file\n",
    "    :return: File descriptor (integer)\n",
    "    \"\"\"\n",
    "    try:\n",
    "        # Open the file\n",
    "        with open(file_path, 'r') as file:\n",
    "            # Get the file descriptor\n",
    "            file_descriptor = file.fileno()\n",
    "            return file_descriptor\n",
    "    except Exception as e:\n",
    "        print(f\"An error occurred: {e}\")\n",
    "        return None\n",
    "\n",
    "# Example usage\n",
    "file_path = 'example_file.txt'\n",
    "descriptor = get_file_descriptor(file_path)\n",
    "if descriptor is not None:\n",
    "    print(f\"The file descriptor for '{file_path}' is: {descriptor}\")\n"
   ]
  },
  {
   "cell_type": "markdown",
   "id": "f687fc1a-7810-4253-866e-e1175c2a6874",
   "metadata": {},
   "source": [
    "# 15. Write a Python function to return the current position of the file's object using the tell() method."
   ]
  },
  {
   "cell_type": "code",
   "execution_count": 16,
   "id": "1a2ad11d-016f-44e2-a1e5-53dd0662eaf1",
   "metadata": {},
   "outputs": [
    {
     "name": "stdout",
     "output_type": "stream",
     "text": [
      "The current position in the file 'example_file.txt' is: 0\n"
     ]
    }
   ],
   "source": [
    "def get_file_position(file_path):\n",
    "    \"\"\"\n",
    "    Opens a file and returns the current position of the file object.\n",
    "\n",
    "    :param file_path: Path to the file\n",
    "    :return: Current position of the file object (integer)\n",
    "    \"\"\"\n",
    "    try:\n",
    "        # Open the file\n",
    "        with open(file_path, 'r') as file:\n",
    "            # Read some data to change the file position\n",
    "            file.read(10)\n",
    "            # Get the current file position\n",
    "            position = file.tell()\n",
    "            return position\n",
    "    except Exception as e:\n",
    "        print(f\"An error occurred: {e}\")\n",
    "        return None\n",
    "\n",
    "# Example usage\n",
    "file_path = 'example_file.txt'\n",
    "position = get_file_position(file_path)\n",
    "if position is not None:\n",
    "    print(f\"The current position in the file '{file_path}' is: {position}\")\n"
   ]
  },
  {
   "cell_type": "markdown",
   "id": "e9090f89-b397-42ec-b125-512a5e41bbf0",
   "metadata": {},
   "source": [
    "# 16. Create a Python program that logs a message to a file using the logging module."
   ]
  },
  {
   "cell_type": "code",
   "execution_count": 17,
   "id": "467b746d-e15f-4c77-9402-294554f23723",
   "metadata": {},
   "outputs": [
    {
     "name": "stdout",
     "output_type": "stream",
     "text": [
      "Log message has been written to example_log.txt.\n"
     ]
    }
   ],
   "source": [
    "import logging\n",
    "\n",
    "def setup_logger(log_file):\n",
    "    \"\"\"\n",
    "    Sets up the logger to log messages to a file.\n",
    "\n",
    "    :param log_file: Path to the log file\n",
    "    :return: Configured logger\n",
    "    \"\"\"\n",
    "    # Create a logger\n",
    "    logger = logging.getLogger('example_logger')\n",
    "    logger.setLevel(logging.DEBUG)\n",
    "\n",
    "    # Create a file handler to log messages to a file\n",
    "    file_handler = logging.FileHandler(log_file)\n",
    "    file_handler.setLevel(logging.DEBUG)\n",
    "\n",
    "    # Create a formatter and set it for the handler\n",
    "    formatter = logging.Formatter('%(asctime)s - %(name)s - %(levelname)s - %(message)s')\n",
    "    file_handler.setFormatter(formatter)\n",
    "\n",
    "    # Add the handler to the logger\n",
    "    logger.addHandler(file_handler)\n",
    "\n",
    "    return logger\n",
    "\n",
    "def log_message(logger, message):\n",
    "    \"\"\"\n",
    "    Logs a message using the provided logger.\n",
    "\n",
    "    :param logger: Configured logger\n",
    "    :param message: Message to log\n",
    "    \"\"\"\n",
    "    logger.info(message)\n",
    "\n",
    "# Example usage\n",
    "log_file = 'example_log.txt'\n",
    "logger = setup_logger(log_file)\n",
    "log_message(logger, 'This is a log message.')\n",
    "\n",
    "print(f\"Log message has been written to {log_file}.\")\n"
   ]
  },
  {
   "cell_type": "markdown",
   "id": "6ca0e75e-7405-4520-8f68-257a029d80c3",
   "metadata": {},
   "source": [
    "# 17. Explain the importance of logging levels in Python's logging module."
   ]
  },
  {
   "cell_type": "markdown",
   "id": "dc44b281-dbe2-44e2-8550-ca1a8247cf20",
   "metadata": {},
   "source": [
    "Importance of Logging Levels in Python's Logging Module\n",
    "\n",
    "### Categorization of Messages:\n",
    "\n",
    "    Different levels indicate the severity: DEBUG, INFO, WARNING, ERROR, CRITICAL.\n",
    "\n",
    "### Filtering Messages:\n",
    "\n",
    "    Set a logging level to filter out less important messages (e.g., only log ERROR and above).\n",
    "\n",
    "### Controlling Output:\n",
    "\n",
    "    Control verbosity based on the environment (detailed logs in development, concise logs in production).\n",
    "\n",
    "### Efficient Troubleshooting:\n",
    "\n",
    "    Focus on critical issues without being overwhelmed by less important messages.\n",
    "\n",
    "### Performance Considerations:\n",
    "\n",
    "    Reduce performance overhead by logging only necessary information."
   ]
  },
  {
   "cell_type": "markdown",
   "id": "19d57fc1-8de6-4fe9-b88b-a221279dfea9",
   "metadata": {},
   "source": [
    "# 18. Create a Python program that uses the debugger to find the value of a variable inside a loop."
   ]
  },
  {
   "cell_type": "code",
   "execution_count": null,
   "id": "65aef3c5-65b2-4f48-8400-1d98f18f124b",
   "metadata": {},
   "outputs": [],
   "source": [
    "import pdb\n",
    "\n",
    "def sum_of_squares(n):\n",
    "    \"\"\"\n",
    "    Calculates the sum of squares from 1 to n.\n",
    "    \n",
    "    :param n: The upper limit of the range\n",
    "    :return: Sum of squares from 1 to n\n",
    "    \"\"\"\n",
    "    total = 0\n",
    "    for i in range(1, n + 1):\n",
    "        total += i * i\n",
    "        pdb.set_trace()  # Set a breakpoint\n",
    "    return total\n",
    "\n",
    "# Example usage\n",
    "n = 5\n",
    "result = sum_of_squares(n)\n",
    "print(f\"Sum of squares from 1 to {n} is {result}\")\n"
   ]
  },
  {
   "cell_type": "markdown",
   "id": "533e7698-f2ac-4203-8a9c-0ba42380b5d7",
   "metadata": {},
   "source": [
    "# 19. Create a Python program that demonstrates setting breakpoints and inspecting variables using the debugger."
   ]
  },
  {
   "cell_type": "code",
   "execution_count": null,
   "id": "4da1e2e2-59ce-426a-adc6-6dcdd12dc913",
   "metadata": {},
   "outputs": [],
   "source": [
    "import pdb\n",
    "\n",
    "def factorial(n):\n",
    "    \"\"\"\n",
    "    Calculate the factorial of a given number n.\n",
    "    \n",
    "    :param n: The number to calculate the factorial for\n",
    "    :return: Factorial of n\n",
    "    \"\"\"\n",
    "    result = 1\n",
    "    pdb.set_trace()  # Set a breakpoint at the start of the function\n",
    "    for i in range(1, n + 1):\n",
    "        result *= i\n",
    "        pdb.set_trace()  # Set a breakpoint inside the loop to inspect variables\n",
    "    return result\n",
    "\n",
    "# Example usage\n",
    "number = 5\n",
    "factorial_result = factorial(number)\n",
    "print(f\"The factorial of {number} is {factorial_result}\")"
   ]
  },
  {
   "cell_type": "markdown",
   "id": "40031056-f575-4efe-87ce-4d03d31d54e6",
   "metadata": {},
   "source": [
    "#  20.Create a Python program that uses the debugger to trace a recursive function."
   ]
  },
  {
   "cell_type": "code",
   "execution_count": null,
   "id": "be589c58-f3b9-4e79-80a9-c07f0f820a03",
   "metadata": {},
   "outputs": [],
   "source": [
    "import pdb\n",
    "\n",
    "def fibonacci(n):\n",
    "    \"\"\"\n",
    "    Calculate the nth Fibonacci number using recursion.\n",
    "\n",
    "    :param n: The position in the Fibonacci sequence\n",
    "    :return: The nth Fibonacci number\n",
    "    \"\"\"\n",
    "    pdb.set_trace()  # Set a breakpoint at the start of the function\n",
    "    if n <= 0:\n",
    "        return 0\n",
    "    elif n == 1:\n",
    "        return 1\n",
    "    else:\n",
    "        return fibonacci(n - 1) + fibonacci(n - 2)\n",
    "\n",
    "# Example usage\n",
    "number = 5\n",
    "fibonacci_result = fibonacci(number)\n",
    "print(f\"The Fibonacci number at position {number} is {fibonacci_result}\")\n"
   ]
  },
  {
   "cell_type": "markdown",
   "id": "3b2e9f83-efac-4e22-a5e2-c7844b616174",
   "metadata": {},
   "source": [
    "# 21. Write a try-except block to handle a ZeroDivisionError."
   ]
  },
  {
   "cell_type": "code",
   "execution_count": 1,
   "id": "64df0811-8997-4d9c-90f1-a789100c5e67",
   "metadata": {},
   "outputs": [
    {
     "name": "stdout",
     "output_type": "stream",
     "text": [
      "Error: Division by zero is not allowed.\n"
     ]
    }
   ],
   "source": [
    "def divide_numbers(a, b):\n",
    "    \"\"\"\n",
    "    Divides two numbers and handles division by zero.\n",
    "\n",
    "    :param a: Numerator\n",
    "    :param b: Denominator\n",
    "    :return: Result of the division or a message indicating division by zero\n",
    "    \"\"\"\n",
    "    try:\n",
    "        result = a / b\n",
    "    except ZeroDivisionError:\n",
    "        return \"Error: Division by zero is not allowed.\"\n",
    "    else:\n",
    "        return result\n",
    "\n",
    "# Example usage\n",
    "numerator = 10\n",
    "denominator = 0\n",
    "result = divide_numbers(numerator, denominator)\n",
    "print(result)\n"
   ]
  },
  {
   "cell_type": "markdown",
   "id": "21e24332-0ac3-4d39-b564-05a9f1921c3c",
   "metadata": {},
   "source": [
    "# 22. How does the else block work with try-except?"
   ]
  },
  {
   "cell_type": "markdown",
   "id": "759ff8ad-64b5-4ff7-a0ea-b9a3e3c4392c",
   "metadata": {},
   "source": [
    "Execution Condition:\n",
    "\n",
    "The else block runs only if the try block does not raise any exceptions.\n",
    "Purpose:\n",
    "\n",
    "It separates code that should run only if no exceptions occur, keeping the try block focused on code that might fail and the except block on handling errors.\n",
    "## Example"
   ]
  },
  {
   "cell_type": "code",
   "execution_count": 2,
   "id": "6a19ac9d-3b64-4e5d-8e79-bb87005005bd",
   "metadata": {},
   "outputs": [
    {
     "name": "stdout",
     "output_type": "stream",
     "text": [
      "The result is 5.0\n"
     ]
    }
   ],
   "source": [
    "try:\n",
    "    result = 10 / 2\n",
    "except ZeroDivisionError:\n",
    "    print(\"Error: Division by zero is not allowed.\")\n",
    "else:\n",
    "    print(f\"The result is {result}\")\n"
   ]
  },
  {
   "cell_type": "markdown",
   "id": "1d28ecd4-1b57-47c2-80bd-c554c9c7c6a5",
   "metadata": {},
   "source": [
    "Output if no exception:\n",
    "The result is 5.0\n",
    "\n",
    "Output if exception:\n",
    "Error: Division by zero is not allowed."
   ]
  },
  {
   "cell_type": "markdown",
   "id": "d9749e99-eced-4471-9a04-09a5a9872df7",
   "metadata": {},
   "source": [
    "# 23. Implement a try-except-else block to open and read a file."
   ]
  },
  {
   "cell_type": "code",
   "execution_count": 4,
   "id": "db547d5f-a5e6-4f17-b6eb-27cc52e65d9e",
   "metadata": {},
   "outputs": [
    {
     "name": "stdout",
     "output_type": "stream",
     "text": [
      "This demonstrates the use of the close() method.\n",
      "\n"
     ]
    }
   ],
   "source": [
    "def read_file(file_path):\n",
    "    \"\"\"\n",
    "    Tries to open and read a file. Handles exceptions if the file cannot be opened or read.\n",
    "\n",
    "    :param file_path: Path to the file\n",
    "    :return: Content of the file or an error message\n",
    "    \"\"\"\n",
    "    try:\n",
    "        with open(file_path, 'r') as file:\n",
    "            content = file.read()\n",
    "    except FileNotFoundError:\n",
    "        return \"Error: The file was not found.\"\n",
    "    except IOError:\n",
    "        return \"Error: An I/O error occurred.\"\n",
    "    else:\n",
    "        return content\n",
    "\n",
    "# Example usage\n",
    "file_path = 'example.txt'\n",
    "result = read_file(file_path)\n",
    "print(result)\n"
   ]
  },
  {
   "cell_type": "markdown",
   "id": "fd26efbd-637e-4b62-954e-9d8cc270fbb8",
   "metadata": {},
   "source": [
    "# 24. What is the purpose of the finally block in exception handling."
   ]
  },
  {
   "cell_type": "markdown",
   "id": "2c1d5439-9963-4053-930e-bca0f864c3fc",
   "metadata": {},
   "source": [
    "## Purpose of the finally Block in Exception Handling\n",
    "Guaranteed Execution:\n",
    "\n",
    "Ensures that code inside the finally block runs regardless of whether an exception occurred, making it ideal for cleanup tasks.\n",
    "Resource Management:\n",
    "\n",
    "Used to release resources like file handles or database connections, ensuring they are properly closed or cleaned up.\n",
    "## Example"
   ]
  },
  {
   "cell_type": "code",
   "execution_count": 5,
   "id": "db0b943f-7f09-4e3d-978d-bd9815af3813",
   "metadata": {},
   "outputs": [
    {
     "name": "stdout",
     "output_type": "stream",
     "text": [
      "File closed.\n"
     ]
    }
   ],
   "source": [
    "try:\n",
    "    file = open('example.txt', 'r')\n",
    "    content = file.read()\n",
    "except FileNotFoundError:\n",
    "    print(\"Error: The file was not found.\")\n",
    "finally:\n",
    "    file.close()\n",
    "    print(\"File closed.\")\n"
   ]
  },
  {
   "cell_type": "markdown",
   "id": "ad9abd9c-aa78-459b-9d58-60738c7ddfc2",
   "metadata": {},
   "source": [
    "# 25. Write a try-except-finally block to handle a ValueError."
   ]
  },
  {
   "cell_type": "code",
   "execution_count": 6,
   "id": "2009dd81-dad2-4055-9a09-e703f0062c22",
   "metadata": {},
   "outputs": [
    {
     "name": "stdout",
     "output_type": "stream",
     "text": [
      "Error: Invalid input. Please enter a valid integer.\n",
      "Execution of the try-except-finally block is complete.\n",
      "Converted input to integer: 123\n",
      "Execution of the try-except-finally block is complete.\n"
     ]
    }
   ],
   "source": [
    "def process_input(user_input):\n",
    "    \"\"\"\n",
    "    Tries to convert user input to an integer and handle ValueError if the input is invalid.\n",
    "\n",
    "    :param user_input: Input provided by the user\n",
    "    :return: Converted integer or an error message\n",
    "    \"\"\"\n",
    "    try:\n",
    "        # Try to convert the input to an integer\n",
    "        result = int(user_input)\n",
    "        print(f\"Converted input to integer: {result}\")\n",
    "    except ValueError:\n",
    "        # Handle the ValueError if conversion fails\n",
    "        print(\"Error: Invalid input. Please enter a valid integer.\")\n",
    "    finally:\n",
    "        # Code that will always execute, regardless of whether an exception occurred\n",
    "        print(\"Execution of the try-except-finally block is complete.\")\n",
    "\n",
    "# Example usage\n",
    "user_input = \"abc\"  # This will cause a ValueError\n",
    "process_input(user_input)\n",
    "\n",
    "user_input = \"123\"  # This will be successfully converted to an integer\n",
    "process_input(user_input)\n"
   ]
  },
  {
   "cell_type": "markdown",
   "id": "6b095e31-c79b-4e84-bda8-e6ed87c5344c",
   "metadata": {},
   "source": [
    "# 26. How multiple except blocks work in Python?"
   ]
  },
  {
   "cell_type": "markdown",
   "id": "fb87938f-4c7b-45bb-acc8-9d0fb889371f",
   "metadata": {},
   "source": [
    "## How Multiple except Blocks Work in Python\n",
    "Order Matters:\n",
    "\n",
    "Python checks each except block in the order they appear and executes the first one that matches the raised exception. More specific exceptions should be listed before general ones.\n",
    "Handling Different Exceptions:\n",
    "\n",
    "Multiple except blocks allow handling different types of exceptions separately. A catch-all except block can be used at the end to handle any unexpected exceptions.\n",
    "## Example"
   ]
  },
  {
   "cell_type": "code",
   "execution_count": 7,
   "id": "4913172e-2d6b-42b6-8b91-25df35855417",
   "metadata": {},
   "outputs": [
    {
     "name": "stdout",
     "output_type": "stream",
     "text": [
      "The result of 10 / 2 is 5.0\n",
      "Execution complete.\n",
      "Error: Division by zero is not allowed.\n",
      "Execution complete.\n",
      "Error: Both inputs must be numbers.\n",
      "Execution complete.\n"
     ]
    }
   ],
   "source": [
    "def process_division(a, b):\n",
    "    try:\n",
    "        result = a / b\n",
    "        print(f\"The result of {a} / {b} is {result}\")\n",
    "    except ZeroDivisionError:\n",
    "        print(\"Error: Division by zero is not allowed.\")\n",
    "    except TypeError:\n",
    "        print(\"Error: Both inputs must be numbers.\")\n",
    "    except Exception as e:\n",
    "        print(f\"An unexpected error occurred: {e}\")\n",
    "    finally:\n",
    "        print(\"Execution complete.\")\n",
    "\n",
    "# Example usage\n",
    "process_division(10, 2)  # Valid division\n",
    "process_division(10, 0)  # ZeroDivisionError\n",
    "process_division(10, 'a')  # TypeError\n"
   ]
  },
  {
   "cell_type": "markdown",
   "id": "b73a59c4-987e-4dc3-a06f-f7f939666edf",
   "metadata": {},
   "source": [
    "# 27. What is a custom exception in Python?"
   ]
  },
  {
   "cell_type": "markdown",
   "id": "357a94ca-5013-4e32-8467-c244c17bee31",
   "metadata": {},
   "source": [
    "## Custom Exception in Python\n",
    "Definition:\n",
    "\n",
    "A custom exception is a user-defined exception class that extends Python's built-in Exception class, allowing developers to create specific error types for their application.\n",
    "Purpose:\n",
    "\n",
    "Custom exceptions provide more precise error handling and make the code more readable and maintainable by clearly indicating the nature of errors.\n",
    "## Example"
   ]
  },
  {
   "cell_type": "code",
   "execution_count": 1,
   "id": "76902057-c29c-48e0-96ba-82ace7720f9e",
   "metadata": {},
   "outputs": [
    {
     "name": "stdout",
     "output_type": "stream",
     "text": [
      "This is a custom exception\n"
     ]
    }
   ],
   "source": [
    "class MyCustomError(Exception):\n",
    "    pass\n",
    "\n",
    "try:\n",
    "    raise MyCustomError(\"This is a custom exception\")\n",
    "except MyCustomError as e:\n",
    "    print(e)\n"
   ]
  },
  {
   "cell_type": "markdown",
   "id": "61e38e0b-31d9-4777-a7fc-8b02af3c8035",
   "metadata": {},
   "source": [
    "# 28. Create a custom exception class with a message."
   ]
  },
  {
   "cell_type": "code",
   "execution_count": 2,
   "id": "7e75f2da-651a-492b-a86f-20b72a0349e2",
   "metadata": {},
   "outputs": [
    {
     "name": "stdout",
     "output_type": "stream",
     "text": [
      "Caught an exception: This is a custom error message\n"
     ]
    }
   ],
   "source": [
    "class MyCustomError(Exception):\n",
    "    \"\"\"\n",
    "    Custom exception class for specific error handling.\n",
    "    \"\"\"\n",
    "    def __init__(self, message):\n",
    "        self.message = message\n",
    "        super().__init__(self.message)\n",
    "\n",
    "# Example usage\n",
    "try:\n",
    "    raise MyCustomError(\"This is a custom error message\")\n",
    "except MyCustomError as e:\n",
    "    print(f\"Caught an exception: {e}\")\n"
   ]
  },
  {
   "cell_type": "markdown",
   "id": "d465a42a-2c54-4609-b91b-bab8a40a6950",
   "metadata": {},
   "source": [
    "# 29. Write a code to raise a custom exception in Python."
   ]
  },
  {
   "cell_type": "code",
   "execution_count": 3,
   "id": "a7e879f0-62e9-4a83-b1db-ac2b72419c7d",
   "metadata": {},
   "outputs": [
    {
     "name": "stdout",
     "output_type": "stream",
     "text": [
      "Caught an exception: Value must be non-negative.\n"
     ]
    }
   ],
   "source": [
    "class MyCustomError(Exception):\n",
    "    \"\"\"\n",
    "    Custom exception class for specific error handling.\n",
    "    \"\"\"\n",
    "    def __init__(self, message):\n",
    "        self.message = message\n",
    "        super().__init__(self.message)\n",
    "def check_value(value):\n",
    "    \"\"\"\n",
    "    Checks the value and raises MyCustomError if the value is not acceptable.\n",
    "    \n",
    "    :param value: The value to check\n",
    "    :raises MyCustomError: If the value is less than 0\n",
    "    \"\"\"\n",
    "    if value < 0:\n",
    "        raise MyCustomError(\"Value must be non-negative.\")\n",
    "\n",
    "# Example usage\n",
    "try:\n",
    "    check_value(-1)  # This will raise MyCustomError\n",
    "except MyCustomError as e:\n",
    "    print(f\"Caught an exception: {e}\")\n"
   ]
  },
  {
   "cell_type": "markdown",
   "id": "8e517c60-4b49-4c81-9383-4aca781b8f9f",
   "metadata": {},
   "source": [
    "# 30. Write a function that raises a custom exception when a value is negative."
   ]
  },
  {
   "cell_type": "code",
   "execution_count": 4,
   "id": "a82b5788-e00e-43f2-840d-3402d3adad25",
   "metadata": {},
   "outputs": [
    {
     "name": "stdout",
     "output_type": "stream",
     "text": [
      "Caught an exception: Negative value error: Value must be non-negative.\n"
     ]
    }
   ],
   "source": [
    "class NegativeValueError(Exception):\n",
    "    \"\"\"\n",
    "    Custom exception raised when a negative value is encountered.\n",
    "    \"\"\"\n",
    "    def __init__(self, message):\n",
    "        self.message = message\n",
    "        super().__init__(self.message)\n",
    "def check_for_negative(value):\n",
    "    \"\"\"\n",
    "    Checks the value and raises NegativeValueError if the value is negative.\n",
    "    \n",
    "    :param value: The value to check\n",
    "    :raises NegativeValueError: If the value is negative\n",
    "    \"\"\"\n",
    "    if value < 0:\n",
    "        raise NegativeValueError(\"Negative value error: Value must be non-negative.\")\n",
    "\n",
    "# Example usage\n",
    "try:\n",
    "    check_for_negative(-10)  # This will raise NegativeValueError\n",
    "except NegativeValueError as e:\n",
    "    print(f\"Caught an exception: {e}\")\n"
   ]
  },
  {
   "cell_type": "markdown",
   "id": "7da13c96-76ce-4b99-95b8-dd6783218cdd",
   "metadata": {},
   "source": [
    "# 31. What is the role of try, except, else, and finally in handling exceptions."
   ]
  },
  {
   "cell_type": "markdown",
   "id": "84c39e13-117c-418e-bf30-c9171f1e8dee",
   "metadata": {},
   "source": [
    "## Role of try, except, else, and finally in Handling Exceptions\n",
    "### try:\n",
    "\n",
    "Contains code that might raise an exception. Execution moves to the appropriate except block if an exception occurs.\n",
    "### except:\n",
    "\n",
    "Catches and handles exceptions raised in the try block. Multiple except blocks can handle different types of exceptions.\n",
    "### else:\n",
    "\n",
    "Executes code if no exceptions are raised in the try block. It helps separate the success path from error handling.\n",
    "### finally:\n",
    "\n",
    "Executes code regardless of whether an exception occurred or not. It is typically used for cleanup actions like closing files or releasing resources."
   ]
  },
  {
   "cell_type": "markdown",
   "id": "8cef2678-3073-4286-9156-370a319a4f79",
   "metadata": {},
   "source": [
    "# 32. How can custom exceptions improve code readability and maintainability?"
   ]
  },
  {
   "cell_type": "markdown",
   "id": "8c4aad6c-f170-42f8-9b68-f495aed04b61",
   "metadata": {},
   "source": [
    "## How Custom Exceptions Improve Code Readability and Maintainability\n",
    "### Clearer Error Handling:\n",
    "\n",
    "Specific and Intentional: Custom exceptions provide specific names and messages, making it clear what type of error occurred, which improves understanding and debugging.\n",
    "### Modular and Organized Code:\n",
    "\n",
    "Separation of Concerns: Custom exceptions separate error handling logic from business logic, leading to cleaner and more maintainable code.\n",
    "## Example"
   ]
  },
  {
   "cell_type": "code",
   "execution_count": 5,
   "id": "ea31738a-2bad-4518-945c-14a9b5e494cb",
   "metadata": {},
   "outputs": [
    {
     "name": "stdout",
     "output_type": "stream",
     "text": [
      "Resource error: Name field\n"
     ]
    }
   ],
   "source": [
    "class InvalidInputError(Exception):\n",
    "    pass\n",
    "\n",
    "class ResourceNotFoundError(Exception):\n",
    "    pass\n",
    "def process_data(data):\n",
    "    if not isinstance(data, dict):\n",
    "        raise InvalidInputError(\"Data must be a dictionary.\")\n",
    "    if 'name' not in data:\n",
    "        raise ResourceNotFoundError(\"Name field\")\n",
    "\n",
    "try:\n",
    "    process_data({\"age\": 30})  # Missing 'name' field\n",
    "except InvalidInputError as e:\n",
    "    print(f\"Input error: {e}\")\n",
    "except ResourceNotFoundError as e:\n",
    "    print(f\"Resource error: {e}\")\n"
   ]
  },
  {
   "cell_type": "markdown",
   "id": "3b5ba3aa-6193-4c05-a166-c94ccb9454a0",
   "metadata": {},
   "source": [
    "## What is Multithreading?\n",
    "### Definition:\n",
    "\n",
    "Multithreading is a technique that allows concurrent execution of two or more threads within a single process, enabling multiple tasks to be performed simultaneously.\n",
    "### Purpose:\n",
    "\n",
    "It is used to improve the performance of applications by utilizing the CPU more efficiently, particularly for I/O-bound and high-latency operations.\n",
    "## Example"
   ]
  },
  {
   "cell_type": "code",
   "execution_count": 6,
   "id": "7977f68b-65fd-4829-9089-ae85b9226249",
   "metadata": {},
   "outputs": [
    {
     "name": "stdout",
     "output_type": "stream",
     "text": [
      "0\n",
      "1\n",
      "2\n",
      "3\n",
      "4\n"
     ]
    }
   ],
   "source": [
    "import threading\n",
    "\n",
    "def print_numbers():\n",
    "    for i in range(5):\n",
    "        print(i)\n",
    "\n",
    "thread = threading.Thread(target=print_numbers)\n",
    "thread.start()\n",
    "thread.join()\n"
   ]
  },
  {
   "cell_type": "markdown",
   "id": "8779b85a-c77e-472c-a6fb-8faff8f87506",
   "metadata": {},
   "source": [
    "# 34. Create a thread in Python."
   ]
  },
  {
   "cell_type": "code",
   "execution_count": 7,
   "id": "f30284b8-72e9-49bc-a2b1-31119a19d8db",
   "metadata": {},
   "outputs": [
    {
     "name": "stdout",
     "output_type": "stream",
     "text": [
      "0\n",
      "1\n",
      "2\n",
      "3\n",
      "4\n",
      "Thread execution complete.\n"
     ]
    }
   ],
   "source": [
    "import threading\n",
    "\n",
    "def print_numbers():\n",
    "    \"\"\"\n",
    "    Function to print numbers from 0 to 4.\n",
    "    This will run in a separate thread.\n",
    "    \"\"\"\n",
    "    for i in range(5):\n",
    "        print(i)\n",
    "\n",
    "# Create a thread\n",
    "thread = threading.Thread(target=print_numbers)\n",
    "\n",
    "# Start the thread\n",
    "thread.start()\n",
    "\n",
    "# Wait for the thread to complete\n",
    "thread.join()\n",
    "\n",
    "print(\"Thread execution complete.\")\n"
   ]
  },
  {
   "cell_type": "markdown",
   "id": "f6baf039-e42e-457e-9c72-87e9ffe1fafc",
   "metadata": {},
   "source": [
    "# 35. What is the Global Interpreter Lock (GIL) in Python?"
   ]
  },
  {
   "cell_type": "markdown",
   "id": "0d28f646-0c3e-4b57-ab91-5f325d1cb13b",
   "metadata": {},
   "source": [
    "## Global Interpreter Lock (GIL) in Python\n",
    "### Definition:\n",
    "\n",
    "The GIL is a mutex that protects access to Python objects, preventing multiple native threads from executing Python bytecodes simultaneously in a single process.\n",
    "### Impact:\n",
    "\n",
    "It ensures thread safety but limits the execution of threads in CPU-bound operations, making Python threads less effective for parallel CPU-intensive tasks.\n",
    "## Example Explanation\n",
    "Effect on Multithreading: Due to the GIL, even if you create multiple threads, only one thread executes Python code at a time per process, which can be a bottleneck for CPU-bound applications. However, it does not significantly impact I/O-bound operations where the threads spend most of their time waiting for external events."
   ]
  },
  {
   "cell_type": "markdown",
   "id": "d39cc45f-0c47-4bd3-b778-05d7996ebf5c",
   "metadata": {},
   "source": [
    "# 36. Implement a simple multithreading example in Python."
   ]
  },
  {
   "cell_type": "code",
   "execution_count": 8,
   "id": "85bae754-01c9-43bd-a096-b699d31c4333",
   "metadata": {},
   "outputs": [
    {
     "name": "stdout",
     "output_type": "stream",
     "text": [
      "Number: 0\n",
      "Letter: A\n",
      "Number: 1\n",
      "Letter: B\n",
      "Number: 2\n",
      "Letter: C\n",
      "Number: 3\n",
      "Letter: D\n",
      "Number: 4\n",
      "Letter: E\n",
      "Both threads have finished execution.\n"
     ]
    }
   ],
   "source": [
    "import threading\n",
    "import time\n",
    "\n",
    "def print_numbers():\n",
    "    \"\"\"\n",
    "    Function to print numbers from 0 to 4 with a delay.\n",
    "    \"\"\"\n",
    "    for i in range(5):\n",
    "        print(f\"Number: {i}\")\n",
    "        time.sleep(1)  # Adding a delay to simulate a time-consuming task\n",
    "\n",
    "def print_letters():\n",
    "    \"\"\"\n",
    "    Function to print letters from A to E with a delay.\n",
    "    \"\"\"\n",
    "    for letter in 'ABCDE':\n",
    "        print(f\"Letter: {letter}\")\n",
    "        time.sleep(1)  # Adding a delay to simulate a time-consuming task\n",
    "\n",
    "# Create two threads\n",
    "thread1 = threading.Thread(target=print_numbers)\n",
    "thread2 = threading.Thread(target=print_letters)\n",
    "\n",
    "# Start the threads\n",
    "thread1.start()\n",
    "thread2.start()\n",
    "\n",
    "# Wait for both threads to complete\n",
    "thread1.join()\n",
    "thread2.join()\n",
    "\n",
    "print(\"Both threads have finished execution.\")\n"
   ]
  },
  {
   "cell_type": "markdown",
   "id": "1fc8fffb-522f-4707-9731-1f0d29f2f778",
   "metadata": {},
   "source": [
    "# 37. What is the purpose of the join() method in threading?"
   ]
  },
  {
   "cell_type": "markdown",
   "id": "53138f55-5b8e-4083-a814-4b75292a5df9",
   "metadata": {},
   "source": [
    "## Purpose of the join() Method in Threading\n",
    "### Definition:\n",
    "\n",
    "The join() method in threading is used to wait for a thread to complete its execution. When a thread's join() method is called, the calling thread (typically the main thread) will pause execution until the thread being joined has finished running.\n",
    "Usage:\n",
    "\n",
    "Ensures that a program waits for threads to complete before proceeding, which is crucial for coordinating tasks and ensuring proper synchronization.\n",
    "## Example"
   ]
  },
  {
   "cell_type": "code",
   "execution_count": 9,
   "id": "98c078d9-0b8e-421b-a025-f6e1910ae23c",
   "metadata": {},
   "outputs": [
    {
     "name": "stdout",
     "output_type": "stream",
     "text": [
      "Number: 0\n",
      "Number: 1\n",
      "Number: 2\n",
      "Number: 3\n",
      "Number: 4\n",
      "Thread has finished execution.\n"
     ]
    }
   ],
   "source": [
    "import threading\n",
    "import time\n",
    "\n",
    "def print_numbers():\n",
    "    for i in range(5):\n",
    "        print(f\"Number: {i}\")\n",
    "        time.sleep(1)  # Simulate a time-consuming task\n",
    "\n",
    "# Create a thread\n",
    "thread = threading.Thread(target=print_numbers)\n",
    "\n",
    "# Start the thread\n",
    "thread.start()\n",
    "\n",
    "# Wait for the thread to complete\n",
    "thread.join()\n",
    "\n",
    "print(\"Thread has finished execution.\")\n"
   ]
  },
  {
   "cell_type": "markdown",
   "id": "9d640e1d-fa54-4fd7-818c-d1d4cf37c602",
   "metadata": {},
   "source": [
    "# 38. Describe a scenario where multithreading would be beneficial in Python."
   ]
  },
  {
   "cell_type": "markdown",
   "id": "ce67b9b1-bcb4-4eb4-9e9f-fdbca8424ba5",
   "metadata": {},
   "source": [
    "## Beneficial Scenario for Multithreading in Python\n",
    "### I/O-Bound Tasks:\n",
    "Example: Downloading files from the internet.\n",
    "Benefit: Multithreading allows concurrent execution of multiple download tasks, reducing overall wait time as threads can handle waiting for network responses while others proceed with their downloads.\n",
    "## Example"
   ]
  },
  {
   "cell_type": "code",
   "execution_count": 10,
   "id": "fea95b0e-4fba-4ade-b763-ebee829a103a",
   "metadata": {},
   "outputs": [
    {
     "name": "stdout",
     "output_type": "stream",
     "text": [
      "Downloaded http://example.com/file3 with status 500\n",
      "Downloaded http://example.com/file2 with status 500\n",
      "Downloaded http://example.com/file1 with status 404\n"
     ]
    }
   ],
   "source": [
    "import threading\n",
    "import requests\n",
    "\n",
    "def download_file(url):\n",
    "    response = requests.get(url)\n",
    "    print(f\"Downloaded {url} with status {response.status_code}\")\n",
    "\n",
    "urls = [\"http://example.com/file1\", \"http://example.com/file2\", \"http://example.com/file3\"]\n",
    "\n",
    "threads = [threading.Thread(target=download_file, args=(url,)) for url in urls]\n",
    "\n",
    "for thread in threads:\n",
    "    thread.start()\n",
    "\n",
    "for thread in threads:\n",
    "    thread.join()\n"
   ]
  },
  {
   "cell_type": "markdown",
   "id": "92437956-5699-4d9b-84f2-476bee18b40d",
   "metadata": {},
   "source": [
    "# 39. What is multiprocessing in Python? "
   ]
  },
  {
   "cell_type": "markdown",
   "id": "26c47260-fa96-4048-8a78-183b092b0d8e",
   "metadata": {},
   "source": [
    "Definition:\n",
    "\n",
    "Multiprocessing is a technique that allows the execution of multiple processes concurrently, taking advantage of multiple CPU cores to perform parallel computations.\n",
    "Purpose:\n",
    "\n",
    "It improves performance for CPU-bound tasks by bypassing the Global Interpreter Lock (GIL) and enabling true parallelism.\n",
    "## Example"
   ]
  },
  {
   "cell_type": "code",
   "execution_count": 11,
   "id": "82e81035-0c49-45e8-a410-8ea0c201a9ed",
   "metadata": {},
   "outputs": [
    {
     "name": "stdout",
     "output_type": "stream",
     "text": [
      "[1, 4, 9, 16, 25]\n"
     ]
    }
   ],
   "source": [
    "import multiprocessing\n",
    "\n",
    "def compute_square(n):\n",
    "    return n * n\n",
    "\n",
    "if __name__ == '__main__':\n",
    "    with multiprocessing.Pool(processes=4) as pool:\n",
    "        result = pool.map(compute_square, [1, 2, 3, 4, 5])\n",
    "    print(result)\n"
   ]
  },
  {
   "cell_type": "markdown",
   "id": "852ca3d3-741a-45dd-91e3-3f148fe72f38",
   "metadata": {},
   "source": [
    "# 40. How is multiprocessing different from multithreading in Python? "
   ]
  },
  {
   "cell_type": "markdown",
   "id": "6c3b5ced-2212-4bc9-92ff-f3dce20f0339",
   "metadata": {},
   "source": [
    "## Difference Between Multiprocessing and Multithreading in Python\n",
    "## Concurrency vs. Parallelism:\n",
    "\n",
    "Multithreading: Achieves concurrency by running multiple threads within the same process. Threads share the same memory space and are subject to the Global Interpreter Lock (GIL), making it less effective for CPU-bound tasks but useful for I/O-bound tasks.\n",
    "Multiprocessing: Achieves parallelism by running multiple processes, each with its own memory space. This bypasses the GIL, making it suitable for CPU-bound tasks and allowing true parallel execution across multiple CPU cores.\n",
    "Use Cases:\n",
    "\n",
    "Multithreading: Best for I/O-bound tasks like file operations, network requests, or user interactions where tasks spend a lot of time waiting for external events.\n",
    "Multiprocessing: Best for CPU-bound tasks like mathematical computations, data processing, or tasks that require significant computational power and can benefit from parallel execution."
   ]
  },
  {
   "cell_type": "markdown",
   "id": "4d23ed44-603b-4344-8ea6-64a98ca23db8",
   "metadata": {},
   "source": [
    "# 41. Create a process using the multiprocessing module in Python."
   ]
  },
  {
   "cell_type": "code",
   "execution_count": 12,
   "id": "bb4c394d-669a-42cb-a271-b1181642bceb",
   "metadata": {},
   "outputs": [
    {
     "name": "stdout",
     "output_type": "stream",
     "text": [
      "Number: 0\n",
      "Number: 1\n",
      "Number: 2\n",
      "Number: 3\n",
      "Number: 4\n",
      "Process execution complete.\n"
     ]
    }
   ],
   "source": [
    "import multiprocessing\n",
    "\n",
    "def print_numbers():\n",
    "    \"\"\"\n",
    "    Function to print numbers from 0 to 4.\n",
    "    This will run in a separate process.\n",
    "    \"\"\"\n",
    "    for i in range(5):\n",
    "        print(f\"Number: {i}\")\n",
    "\n",
    "if __name__ == '__main__':\n",
    "    # Create a process\n",
    "    process = multiprocessing.Process(target=print_numbers)\n",
    "\n",
    "    # Start the process\n",
    "    process.start()\n",
    "\n",
    "    # Wait for the process to complete\n",
    "    process.join()\n",
    "\n",
    "    print(\"Process execution complete.\")\n"
   ]
  },
  {
   "cell_type": "markdown",
   "id": "235b0647-9a9a-4288-b8dd-87d8fa3cd93d",
   "metadata": {},
   "source": [
    "# 42. Explain the concept of Pool in the multiprocessing module. "
   ]
  },
  {
   "cell_type": "markdown",
   "id": "98b920fc-d148-4b1c-a0b1-85443a635d58",
   "metadata": {},
   "source": [
    "## Concept of Pool in the multiprocessing Module\n",
    "### Definition:\n",
    "\n",
    "A Pool in the multiprocessing module allows you to manage a pool of worker processes. It provides methods to parallelize the execution of a function across multiple input values, distributing the tasks among the available processes.\n",
    "Purpose:\n",
    "\n",
    "The Pool simplifies parallel processing by automatically managing a set number of processes, making it easier to perform parallel computations and improve performance for CPU-bound tasks.\n",
    "## Example"
   ]
  },
  {
   "cell_type": "code",
   "execution_count": 14,
   "id": "141c38eb-368d-4cd8-969b-699ed978af5b",
   "metadata": {},
   "outputs": [
    {
     "name": "stdout",
     "output_type": "stream",
     "text": [
      "[1, 4, 9, 16, 25]\n"
     ]
    }
   ],
   "source": [
    "import multiprocessing\n",
    "\n",
    "def square(x):\n",
    "    return x * x\n",
    "\n",
    "if __name__ == '__main__':\n",
    "    with multiprocessing.Pool(processes=4) as pool:\n",
    "        results = pool.map(square, [1, 2, 3, 4, 5])\n",
    "    print(results)\n"
   ]
  },
  {
   "cell_type": "markdown",
   "id": "54b76b53-bf46-4a08-b534-bba336c72739",
   "metadata": {},
   "source": [
    "# 43. Explain inter-process communication in multiprocessing. "
   ]
  },
  {
   "cell_type": "markdown",
   "id": "7b013a7e-f0e9-4e82-9584-c70706392f08",
   "metadata": {},
   "source": [
    "## Inter-Process Communication in Multiprocessing\n",
    "### Definition:\n",
    "\n",
    "Inter-Process Communication (IPC) in multiprocessing involves exchanging data between multiple processes. Since processes have separate memory spaces, IPC mechanisms are needed to share information.\n",
    "### Methods:\n",
    "\n",
    "Queues: Use multiprocessing.Queue to exchange data safely between processes.\n",
    "Pipes: Use multiprocessing.Pipe for a two-way communication channel between processes.\n",
    "## Example Using Queue"
   ]
  },
  {
   "cell_type": "code",
   "execution_count": 15,
   "id": "23334080-0749-4724-a96f-5762dfe8c4e7",
   "metadata": {},
   "outputs": [
    {
     "name": "stdout",
     "output_type": "stream",
     "text": [
      "Data from worker\n"
     ]
    }
   ],
   "source": [
    "import multiprocessing\n",
    "\n",
    "def worker(queue):\n",
    "    queue.put(\"Data from worker\")\n",
    "\n",
    "if __name__ == '__main__':\n",
    "    queue = multiprocessing.Queue()\n",
    "    process = multiprocessing.Process(target=worker, args=(queue,))\n",
    "    process.start()\n",
    "    process.join()\n",
    "    print(queue.get())\n"
   ]
  }
 ],
 "metadata": {
  "kernelspec": {
   "display_name": "Python 3 (ipykernel)",
   "language": "python",
   "name": "python3"
  },
  "language_info": {
   "codemirror_mode": {
    "name": "ipython",
    "version": 3
   },
   "file_extension": ".py",
   "mimetype": "text/x-python",
   "name": "python",
   "nbconvert_exporter": "python",
   "pygments_lexer": "ipython3",
   "version": "3.10.8"
  }
 },
 "nbformat": 4,
 "nbformat_minor": 5
}
